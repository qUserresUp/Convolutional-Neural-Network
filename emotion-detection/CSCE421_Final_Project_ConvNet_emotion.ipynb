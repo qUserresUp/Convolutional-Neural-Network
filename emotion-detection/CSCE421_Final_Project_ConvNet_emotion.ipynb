{
  "nbformat": 4,
  "nbformat_minor": 0,
  "metadata": {
    "colab": {
      "name": "CSCE421_Final_Project_ConvNet_emotion.ipynb",
      "provenance": [],
      "collapsed_sections": []
    },
    "kernelspec": {
      "name": "python3",
      "display_name": "Python 3"
    },
    "accelerator": "GPU"
  },
  "cells": [
    {
      "cell_type": "code",
      "metadata": {
        "id": "gwV7_6CcwJLU",
        "colab_type": "code",
        "outputId": "cf8a2590-2991-4646-8c19-e0ab3d938190",
        "colab": {
          "base_uri": "https://localhost:8080/",
          "height": 97
        }
      },
      "source": [
        "import keras\n",
        "keras.__version__"
      ],
      "execution_count": 1,
      "outputs": [
        {
          "output_type": "stream",
          "text": [
            "Using TensorFlow backend.\n"
          ],
          "name": "stderr"
        },
        {
          "output_type": "display_data",
          "data": {
            "text/html": [
              "<p style=\"color: red;\">\n",
              "The default version of TensorFlow in Colab will soon switch to TensorFlow 2.x.<br>\n",
              "We recommend you <a href=\"https://www.tensorflow.org/guide/migrate\" target=\"_blank\">upgrade</a> now \n",
              "or ensure your notebook will continue to use TensorFlow 1.x via the <code>%tensorflow_version 1.x</code> magic:\n",
              "<a href=\"https://colab.research.google.com/notebooks/tensorflow_version.ipynb\" target=\"_blank\">more info</a>.</p>\n"
            ],
            "text/plain": [
              "<IPython.core.display.HTML object>"
            ]
          },
          "metadata": {
            "tags": []
          }
        },
        {
          "output_type": "execute_result",
          "data": {
            "text/plain": [
              "'2.2.5'"
            ]
          },
          "metadata": {
            "tags": []
          },
          "execution_count": 1
        }
      ]
    },
    {
      "cell_type": "code",
      "metadata": {
        "id": "O1doJD1moswt",
        "colab_type": "code",
        "outputId": "875180d0-7906-456d-ff1f-698b8f512f9c",
        "colab": {
          "base_uri": "https://localhost:8080/",
          "height": 122
        }
      },
      "source": [
        "from google.colab import drive\n",
        "drive.mount('/gdrive')\n"
      ],
      "execution_count": 2,
      "outputs": [
        {
          "output_type": "stream",
          "text": [
            "Go to this URL in a browser: https://accounts.google.com/o/oauth2/auth?client_id=947318989803-6bn6qk8qdgf4n4g3pfee6491hc0brc4i.apps.googleusercontent.com&redirect_uri=urn%3aietf%3awg%3aoauth%3a2.0%3aoob&response_type=code&scope=email%20https%3a%2f%2fwww.googleapis.com%2fauth%2fdocs.test%20https%3a%2f%2fwww.googleapis.com%2fauth%2fdrive%20https%3a%2f%2fwww.googleapis.com%2fauth%2fdrive.photos.readonly%20https%3a%2f%2fwww.googleapis.com%2fauth%2fpeopleapi.readonly\n",
            "\n",
            "Enter your authorization code:\n",
            "··········\n",
            "Mounted at /gdrive\n"
          ],
          "name": "stdout"
        }
      ]
    },
    {
      "cell_type": "code",
      "metadata": {
        "id": "fweZsNM2B8_D",
        "colab_type": "code",
        "outputId": "f242dff6-97e2-425d-d393-9947e2c53a3d",
        "colab": {
          "base_uri": "https://localhost:8080/",
          "height": 119
        }
      },
      "source": [
        "\n",
        "%cd /gdrive\n",
        "%cd My\\ Drive\n",
        "%cd CSCE421YaleData \n",
        "!ls"
      ],
      "execution_count": 3,
      "outputs": [
        {
          "output_type": "stream",
          "text": [
            "/gdrive\n",
            "/gdrive/My Drive\n",
            "/gdrive/My Drive/CSCE421YaleData\n",
            "csce_421_final_subject_class_emotion.h5    emotions\t\t  subjects\n",
            "csce_421_final_subject_class.h5\t\t   glasses\n",
            "csce_421_final_subject_class_wo_imgAug.h5  Homework5_YaleDataset\n"
          ],
          "name": "stdout"
        }
      ]
    },
    {
      "cell_type": "code",
      "metadata": {
        "id": "Xlwp1KMq2YrM",
        "colab_type": "code",
        "colab": {}
      },
      "source": [
        "import os, shutil\n",
        "\n",
        "original_dataset_dir = '/gdrive/My Drive/CSCE421YaleData/Homework5_YaleDataset'\n",
        "base_dir = '/gdrive/My Drive/CSCE421YaleData/emotions'\n",
        "\n"
      ],
      "execution_count": 0,
      "outputs": []
    },
    {
      "cell_type": "code",
      "metadata": {
        "id": "Z-o9md328gh1",
        "colab_type": "code",
        "colab": {}
      },
      "source": [
        "train_dir = os.path.join(base_dir,'train')\n",
        "validation_dir = os.path.join(base_dir,'validation')\n",
        "test_dir = os.path.join(base_dir,'test')\n",
        "\n",
        "\n"
      ],
      "execution_count": 0,
      "outputs": []
    },
    {
      "cell_type": "code",
      "metadata": {
        "id": "x3ynT1N1Un5j",
        "colab_type": "code",
        "outputId": "edb71c53-547f-440d-c7d6-6a9c00947303",
        "colab": {
          "base_uri": "https://localhost:8080/",
          "height": 870
        }
      },
      "source": [
        "from keras import layers\n",
        "from keras import models\n",
        "\n",
        "\n",
        "\"\"\"\n",
        "======Model ======\n",
        "\"\"\"\n",
        "model = models.Sequential()\n",
        "model.add(layers.Conv2D(32, (3, 3), activation='relu', input_shape=(150, 150, 3)))\n",
        "model.add(layers.MaxPooling2D((2, 2)))\n",
        "model.add(layers.Conv2D(64, (3,3), activation = 'relu'))\n",
        "model.add(layers.MaxPooling2D((2, 2)))\n",
        "model.add(layers.Conv2D(128, (3,3), activation = 'relu'))\n",
        "model.add(layers.MaxPooling2D((2, 2)))\n",
        "model.add(layers.Conv2D(128, (3,3), activation = 'relu'))\n",
        "model.add(layers.MaxPooling2D((2, 2)))\n",
        "\n",
        "model.add(layers.Flatten())\n",
        "\n",
        "\"\"\"add dropout to fight overfitting\"\"\"\n",
        "model.add(layers.Dropout(0.5))\n",
        "\n",
        "model.add(layers.Dense(512, activation = 'relu'))\n",
        "model.add(layers.Dense(4, activation = 'softmax'))\n",
        "model.summary()\n",
        "from keras import optimizers\n",
        "model.compile(loss='categorical_crossentropy', \n",
        "              optimizer = optimizers.RMSprop(lr=1e-4),\n",
        "              metrics = ['acc'])\n",
        "                        "
      ],
      "execution_count": 12,
      "outputs": [
        {
          "output_type": "stream",
          "text": [
            "WARNING:tensorflow:From /usr/local/lib/python3.6/dist-packages/keras/backend/tensorflow_backend.py:66: The name tf.get_default_graph is deprecated. Please use tf.compat.v1.get_default_graph instead.\n",
            "\n",
            "WARNING:tensorflow:From /usr/local/lib/python3.6/dist-packages/keras/backend/tensorflow_backend.py:541: The name tf.placeholder is deprecated. Please use tf.compat.v1.placeholder instead.\n",
            "\n",
            "WARNING:tensorflow:From /usr/local/lib/python3.6/dist-packages/keras/backend/tensorflow_backend.py:4432: The name tf.random_uniform is deprecated. Please use tf.random.uniform instead.\n",
            "\n",
            "WARNING:tensorflow:From /usr/local/lib/python3.6/dist-packages/keras/backend/tensorflow_backend.py:4267: The name tf.nn.max_pool is deprecated. Please use tf.nn.max_pool2d instead.\n",
            "\n",
            "WARNING:tensorflow:From /usr/local/lib/python3.6/dist-packages/keras/backend/tensorflow_backend.py:148: The name tf.placeholder_with_default is deprecated. Please use tf.compat.v1.placeholder_with_default instead.\n",
            "\n",
            "WARNING:tensorflow:From /usr/local/lib/python3.6/dist-packages/keras/backend/tensorflow_backend.py:3733: calling dropout (from tensorflow.python.ops.nn_ops) with keep_prob is deprecated and will be removed in a future version.\n",
            "Instructions for updating:\n",
            "Please use `rate` instead of `keep_prob`. Rate should be set to `rate = 1 - keep_prob`.\n",
            "Model: \"sequential_1\"\n",
            "_________________________________________________________________\n",
            "Layer (type)                 Output Shape              Param #   \n",
            "=================================================================\n",
            "conv2d_1 (Conv2D)            (None, 148, 148, 32)      896       \n",
            "_________________________________________________________________\n",
            "max_pooling2d_1 (MaxPooling2 (None, 74, 74, 32)        0         \n",
            "_________________________________________________________________\n",
            "conv2d_2 (Conv2D)            (None, 72, 72, 64)        18496     \n",
            "_________________________________________________________________\n",
            "max_pooling2d_2 (MaxPooling2 (None, 36, 36, 64)        0         \n",
            "_________________________________________________________________\n",
            "conv2d_3 (Conv2D)            (None, 34, 34, 128)       73856     \n",
            "_________________________________________________________________\n",
            "max_pooling2d_3 (MaxPooling2 (None, 17, 17, 128)       0         \n",
            "_________________________________________________________________\n",
            "conv2d_4 (Conv2D)            (None, 15, 15, 128)       147584    \n",
            "_________________________________________________________________\n",
            "max_pooling2d_4 (MaxPooling2 (None, 7, 7, 128)         0         \n",
            "_________________________________________________________________\n",
            "flatten_1 (Flatten)          (None, 6272)              0         \n",
            "_________________________________________________________________\n",
            "dropout_1 (Dropout)          (None, 6272)              0         \n",
            "_________________________________________________________________\n",
            "dense_1 (Dense)              (None, 512)               3211776   \n",
            "_________________________________________________________________\n",
            "dense_2 (Dense)              (None, 4)                 2052      \n",
            "=================================================================\n",
            "Total params: 3,454,660\n",
            "Trainable params: 3,454,660\n",
            "Non-trainable params: 0\n",
            "_________________________________________________________________\n",
            "WARNING:tensorflow:From /usr/local/lib/python3.6/dist-packages/keras/optimizers.py:793: The name tf.train.Optimizer is deprecated. Please use tf.compat.v1.train.Optimizer instead.\n",
            "\n",
            "WARNING:tensorflow:From /usr/local/lib/python3.6/dist-packages/keras/backend/tensorflow_backend.py:3576: The name tf.log is deprecated. Please use tf.math.log instead.\n",
            "\n"
          ],
          "name": "stdout"
        }
      ]
    },
    {
      "cell_type": "code",
      "metadata": {
        "id": "9LF-qG8zloiv",
        "colab_type": "code",
        "outputId": "bc12eb01-669b-4869-d616-c8d67f24d078",
        "colab": {
          "base_uri": "https://localhost:8080/",
          "height": 85
        }
      },
      "source": [
        "from keras.preprocessing.image import ImageDataGenerator\n",
        "\n",
        "\"\"\"Model Two: add data augmentation to generate more samples\"\"\"\n",
        "\n",
        "train_datagen = ImageDataGenerator(rescale=1./255)\n",
        "\n",
        "train_datagen = ImageDataGenerator(\n",
        "    rescale=1./255,\n",
        "    rotation_range=40, \n",
        "    width_shift_range=0.2, \n",
        "    height_shift_range=0.2, \n",
        "    shear_range=0.2, \n",
        "    zoom_range=0.2, \n",
        "    horizontal_flip=True,)\n",
        "\n",
        "test_datagen = ImageDataGenerator(rescale=1./255)\n",
        "\n",
        "\"\"\"Model Two: change batch_size from 20 to 32\"\"\"\n",
        "train_generator = train_datagen.flow_from_directory(\n",
        "    train_dir, \n",
        "    target_size =(150,150), \n",
        "    batch_size=32, \n",
        "    class_mode='categorical') \n",
        "\n",
        "\"\"\"Model Two: change batch_size from 20 to 32\"\"\"\n",
        "validation_generator = test_datagen.flow_from_directory(\n",
        "    validation_dir, \n",
        "    target_size=(150,150), \n",
        "    batch_size=32, \n",
        "    class_mode='categorical')\n",
        "\n",
        "for data_batch, labels_batch in train_generator:\n",
        "  print('data batch shape:', data_batch.shape)\n",
        "  print('labels batch shape:', labels_batch.shape)\n",
        "  break"
      ],
      "execution_count": 13,
      "outputs": [
        {
          "output_type": "stream",
          "text": [
            "Found 28 images belonging to 4 classes.\n",
            "Found 16 images belonging to 4 classes.\n",
            "data batch shape: (28, 150, 150, 3)\n",
            "labels batch shape: (28, 4)\n"
          ],
          "name": "stdout"
        }
      ]
    },
    {
      "cell_type": "code",
      "metadata": {
        "id": "mChNvBx5UTWN",
        "colab_type": "code",
        "outputId": "12e30f74-a4a5-4bb2-87e9-841f1fd8415e",
        "colab": {
          "base_uri": "https://localhost:8080/",
          "height": 1000
        }
      },
      "source": [
        "\n",
        "history = model.fit_generator(\n",
        "    train_generator, \n",
        "    steps_per_epoch=50, \n",
        "    epochs=50, \n",
        "    validation_data=validation_generator, \n",
        "    validation_steps=50)\n",
        "\n",
        "model.save('csce_421_final_subject_class_emotion.h5')\n",
        "\n",
        "\n",
        "# model.load_weights('csce_421_final_subject_class_emotion.h5')\n"
      ],
      "execution_count": 14,
      "outputs": [
        {
          "output_type": "stream",
          "text": [
            "WARNING:tensorflow:From /usr/local/lib/python3.6/dist-packages/tensorflow_core/python/ops/math_grad.py:1424: where (from tensorflow.python.ops.array_ops) is deprecated and will be removed in a future version.\n",
            "Instructions for updating:\n",
            "Use tf.where in 2.0, which has the same broadcast rule as np.where\n",
            "WARNING:tensorflow:From /usr/local/lib/python3.6/dist-packages/keras/backend/tensorflow_backend.py:1033: The name tf.assign_add is deprecated. Please use tf.compat.v1.assign_add instead.\n",
            "\n",
            "WARNING:tensorflow:From /usr/local/lib/python3.6/dist-packages/keras/backend/tensorflow_backend.py:1020: The name tf.assign is deprecated. Please use tf.compat.v1.assign instead.\n",
            "\n",
            "WARNING:tensorflow:From /usr/local/lib/python3.6/dist-packages/keras/backend/tensorflow_backend.py:3005: The name tf.Session is deprecated. Please use tf.compat.v1.Session instead.\n",
            "\n",
            "Epoch 1/50\n",
            "WARNING:tensorflow:From /usr/local/lib/python3.6/dist-packages/keras/backend/tensorflow_backend.py:190: The name tf.get_default_session is deprecated. Please use tf.compat.v1.get_default_session instead.\n",
            "\n",
            "WARNING:tensorflow:From /usr/local/lib/python3.6/dist-packages/keras/backend/tensorflow_backend.py:197: The name tf.ConfigProto is deprecated. Please use tf.compat.v1.ConfigProto instead.\n",
            "\n",
            "WARNING:tensorflow:From /usr/local/lib/python3.6/dist-packages/keras/backend/tensorflow_backend.py:207: The name tf.global_variables is deprecated. Please use tf.compat.v1.global_variables instead.\n",
            "\n",
            "WARNING:tensorflow:From /usr/local/lib/python3.6/dist-packages/keras/backend/tensorflow_backend.py:216: The name tf.is_variable_initialized is deprecated. Please use tf.compat.v1.is_variable_initialized instead.\n",
            "\n",
            "WARNING:tensorflow:From /usr/local/lib/python3.6/dist-packages/keras/backend/tensorflow_backend.py:223: The name tf.variables_initializer is deprecated. Please use tf.compat.v1.variables_initializer instead.\n",
            "\n",
            "50/50 [==============================] - 22s 445ms/step - loss: 1.3936 - acc: 0.2300 - val_loss: 1.3833 - val_acc: 0.2500\n",
            "Epoch 2/50\n",
            "50/50 [==============================] - 15s 297ms/step - loss: 1.3880 - acc: 0.2557 - val_loss: 1.3862 - val_acc: 0.2500\n",
            "Epoch 3/50\n",
            "50/50 [==============================] - 15s 297ms/step - loss: 1.3885 - acc: 0.2393 - val_loss: 1.3878 - val_acc: 0.3125\n",
            "Epoch 4/50\n",
            "50/50 [==============================] - 15s 299ms/step - loss: 1.3872 - acc: 0.2393 - val_loss: 1.3845 - val_acc: 0.1875\n",
            "Epoch 5/50\n",
            "50/50 [==============================] - 15s 297ms/step - loss: 1.3871 - acc: 0.2407 - val_loss: 1.3846 - val_acc: 0.3125\n",
            "Epoch 6/50\n",
            "50/50 [==============================] - 15s 295ms/step - loss: 1.3859 - acc: 0.2500 - val_loss: 1.3876 - val_acc: 0.2500\n",
            "Epoch 7/50\n",
            "50/50 [==============================] - 15s 295ms/step - loss: 1.3863 - acc: 0.2564 - val_loss: 1.3874 - val_acc: 0.2500\n",
            "Epoch 8/50\n",
            "50/50 [==============================] - 15s 295ms/step - loss: 1.3860 - acc: 0.2486 - val_loss: 1.3851 - val_acc: 0.3750\n",
            "Epoch 9/50\n",
            "50/50 [==============================] - 15s 301ms/step - loss: 1.3866 - acc: 0.2736 - val_loss: 1.3851 - val_acc: 0.2500\n",
            "Epoch 10/50\n",
            "50/50 [==============================] - 15s 297ms/step - loss: 1.3872 - acc: 0.2707 - val_loss: 1.3840 - val_acc: 0.2500\n",
            "Epoch 11/50\n",
            "50/50 [==============================] - 15s 297ms/step - loss: 1.3847 - acc: 0.2850 - val_loss: 1.3812 - val_acc: 0.3125\n",
            "Epoch 12/50\n",
            "50/50 [==============================] - 15s 297ms/step - loss: 1.3860 - acc: 0.2671 - val_loss: 1.3801 - val_acc: 0.3125\n",
            "Epoch 13/50\n",
            "50/50 [==============================] - 15s 295ms/step - loss: 1.3815 - acc: 0.2850 - val_loss: 1.3812 - val_acc: 0.2500\n",
            "Epoch 14/50\n",
            "50/50 [==============================] - 15s 297ms/step - loss: 1.3818 - acc: 0.2821 - val_loss: 1.3814 - val_acc: 0.2500\n",
            "Epoch 15/50\n",
            "50/50 [==============================] - 15s 295ms/step - loss: 1.3817 - acc: 0.2771 - val_loss: 1.3791 - val_acc: 0.1875\n",
            "Epoch 16/50\n",
            "50/50 [==============================] - 15s 295ms/step - loss: 1.3826 - acc: 0.2671 - val_loss: 1.3737 - val_acc: 0.2500\n",
            "Epoch 17/50\n",
            "50/50 [==============================] - 15s 295ms/step - loss: 1.3838 - acc: 0.2757 - val_loss: 1.3685 - val_acc: 0.3750\n",
            "Epoch 18/50\n",
            "50/50 [==============================] - 15s 297ms/step - loss: 1.3787 - acc: 0.2879 - val_loss: 1.3690 - val_acc: 0.3125\n",
            "Epoch 19/50\n",
            "50/50 [==============================] - 15s 295ms/step - loss: 1.3732 - acc: 0.3000 - val_loss: 1.3699 - val_acc: 0.2500\n",
            "Epoch 20/50\n",
            "50/50 [==============================] - 15s 295ms/step - loss: 1.3678 - acc: 0.3029 - val_loss: 1.3554 - val_acc: 0.3125\n",
            "Epoch 21/50\n",
            "50/50 [==============================] - 15s 297ms/step - loss: 1.3670 - acc: 0.3207 - val_loss: 1.3449 - val_acc: 0.3125\n",
            "Epoch 22/50\n",
            "50/50 [==============================] - 15s 297ms/step - loss: 1.3566 - acc: 0.3314 - val_loss: 1.3328 - val_acc: 0.4375\n",
            "Epoch 23/50\n",
            "50/50 [==============================] - 15s 297ms/step - loss: 1.3469 - acc: 0.3457 - val_loss: 1.3521 - val_acc: 0.3125\n",
            "Epoch 24/50\n",
            "50/50 [==============================] - 15s 297ms/step - loss: 1.3298 - acc: 0.3621 - val_loss: 1.2845 - val_acc: 0.3750\n",
            "Epoch 25/50\n",
            "50/50 [==============================] - 15s 297ms/step - loss: 1.3053 - acc: 0.3721 - val_loss: 1.3029 - val_acc: 0.3125\n",
            "Epoch 26/50\n",
            "50/50 [==============================] - 15s 297ms/step - loss: 1.2804 - acc: 0.4064 - val_loss: 1.2338 - val_acc: 0.3125\n",
            "Epoch 27/50\n",
            "50/50 [==============================] - 15s 297ms/step - loss: 1.2627 - acc: 0.4229 - val_loss: 1.3187 - val_acc: 0.3750\n",
            "Epoch 28/50\n",
            "50/50 [==============================] - 15s 295ms/step - loss: 1.2388 - acc: 0.4329 - val_loss: 1.3697 - val_acc: 0.3125\n",
            "Epoch 29/50\n",
            "50/50 [==============================] - 15s 295ms/step - loss: 1.2307 - acc: 0.4286 - val_loss: 1.1923 - val_acc: 0.3750\n",
            "Epoch 30/50\n",
            "50/50 [==============================] - 15s 295ms/step - loss: 1.1929 - acc: 0.4721 - val_loss: 1.2405 - val_acc: 0.3750\n",
            "Epoch 31/50\n",
            "50/50 [==============================] - 15s 295ms/step - loss: 1.1799 - acc: 0.4614 - val_loss: 1.2488 - val_acc: 0.4375\n",
            "Epoch 32/50\n",
            "50/50 [==============================] - 15s 295ms/step - loss: 1.1647 - acc: 0.4493 - val_loss: 1.4180 - val_acc: 0.3750\n",
            "Epoch 33/50\n",
            "50/50 [==============================] - 15s 295ms/step - loss: 1.1381 - acc: 0.4807 - val_loss: 1.3151 - val_acc: 0.3750\n",
            "Epoch 34/50\n",
            "50/50 [==============================] - 15s 295ms/step - loss: 1.1148 - acc: 0.4950 - val_loss: 1.4146 - val_acc: 0.3750\n",
            "Epoch 35/50\n",
            "50/50 [==============================] - 15s 297ms/step - loss: 1.0985 - acc: 0.4964 - val_loss: 1.4191 - val_acc: 0.3750\n",
            "Epoch 36/50\n",
            "50/50 [==============================] - 15s 295ms/step - loss: 1.0844 - acc: 0.5157 - val_loss: 1.3009 - val_acc: 0.3750\n",
            "Epoch 37/50\n",
            "50/50 [==============================] - 15s 295ms/step - loss: 1.0842 - acc: 0.5036 - val_loss: 1.2441 - val_acc: 0.4375\n",
            "Epoch 38/50\n",
            "50/50 [==============================] - 15s 295ms/step - loss: 1.0410 - acc: 0.5179 - val_loss: 1.5601 - val_acc: 0.3750\n",
            "Epoch 39/50\n",
            "50/50 [==============================] - 15s 297ms/step - loss: 1.0315 - acc: 0.5307 - val_loss: 1.0702 - val_acc: 0.5000\n",
            "Epoch 40/50\n",
            "50/50 [==============================] - 15s 295ms/step - loss: 1.0160 - acc: 0.5071 - val_loss: 1.3693 - val_acc: 0.4375\n",
            "Epoch 41/50\n",
            "50/50 [==============================] - 15s 297ms/step - loss: 0.9711 - acc: 0.5557 - val_loss: 1.3539 - val_acc: 0.5000\n",
            "Epoch 42/50\n",
            "50/50 [==============================] - 15s 297ms/step - loss: 0.9728 - acc: 0.5479 - val_loss: 1.3077 - val_acc: 0.5000\n",
            "Epoch 43/50\n",
            "50/50 [==============================] - 15s 297ms/step - loss: 0.9601 - acc: 0.5564 - val_loss: 1.3942 - val_acc: 0.5000\n",
            "Epoch 44/50\n",
            "50/50 [==============================] - 15s 297ms/step - loss: 0.9308 - acc: 0.5629 - val_loss: 1.8004 - val_acc: 0.3750\n",
            "Epoch 45/50\n",
            "50/50 [==============================] - 15s 297ms/step - loss: 0.9506 - acc: 0.5786 - val_loss: 1.6148 - val_acc: 0.3750\n",
            "Epoch 46/50\n",
            "50/50 [==============================] - 15s 297ms/step - loss: 0.9099 - acc: 0.5786 - val_loss: 1.5321 - val_acc: 0.5000\n",
            "Epoch 47/50\n",
            "50/50 [==============================] - 15s 297ms/step - loss: 0.9108 - acc: 0.5700 - val_loss: 2.1076 - val_acc: 0.3750\n",
            "Epoch 48/50\n",
            "50/50 [==============================] - 15s 297ms/step - loss: 0.9077 - acc: 0.5843 - val_loss: 1.5122 - val_acc: 0.5000\n",
            "Epoch 49/50\n",
            "50/50 [==============================] - 15s 295ms/step - loss: 0.8685 - acc: 0.5943 - val_loss: 1.7114 - val_acc: 0.4375\n",
            "Epoch 50/50\n",
            "50/50 [==============================] - 15s 295ms/step - loss: 0.8977 - acc: 0.6036 - val_loss: 1.5431 - val_acc: 0.4375\n"
          ],
          "name": "stdout"
        }
      ]
    },
    {
      "cell_type": "code",
      "metadata": {
        "id": "dzrRJxGDHGGY",
        "colab_type": "code",
        "outputId": "83e74ebd-807f-4ccc-86c0-9ffee4de8a41",
        "colab": {
          "base_uri": "https://localhost:8080/",
          "height": 68
        }
      },
      "source": [
        "test_generator = test_datagen.flow_from_directory(\n",
        "    test_dir, \n",
        "    target_size=(150,150), \n",
        "    batch_size=32, \n",
        "    class_mode='categorical')\n",
        "\n",
        "model.evaluate(test_generator)"
      ],
      "execution_count": 15,
      "outputs": [
        {
          "output_type": "stream",
          "text": [
            "Found 16 images belonging to 4 classes.\n",
            "1/1 [==============================] - 5s 5s/step\n"
          ],
          "name": "stdout"
        },
        {
          "output_type": "execute_result",
          "data": {
            "text/plain": [
              "[1.1681716442108154, 0.625]"
            ]
          },
          "metadata": {
            "tags": []
          },
          "execution_count": 15
        }
      ]
    }
  ]
}