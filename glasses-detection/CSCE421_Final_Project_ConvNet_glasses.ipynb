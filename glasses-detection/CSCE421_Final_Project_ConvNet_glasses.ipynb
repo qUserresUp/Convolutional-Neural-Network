{
  "nbformat": 4,
  "nbformat_minor": 0,
  "metadata": {
    "colab": {
      "name": "CSCE421_Final_Project_ConvNet_glasses.ipynb",
      "provenance": [],
      "collapsed_sections": []
    },
    "kernelspec": {
      "name": "python3",
      "display_name": "Python 3"
    },
    "accelerator": "GPU"
  },
  "cells": [
    {
      "cell_type": "code",
      "metadata": {
        "id": "gwV7_6CcwJLU",
        "colab_type": "code",
        "outputId": "92a90920-e939-41dd-a5c8-704636c4122b",
        "colab": {
          "base_uri": "https://localhost:8080/",
          "height": 97
        }
      },
      "source": [
        "import keras\n",
        "keras.__version__"
      ],
      "execution_count": 1,
      "outputs": [
        {
          "output_type": "stream",
          "text": [
            "Using TensorFlow backend.\n"
          ],
          "name": "stderr"
        },
        {
          "output_type": "display_data",
          "data": {
            "text/html": [
              "<p style=\"color: red;\">\n",
              "The default version of TensorFlow in Colab will soon switch to TensorFlow 2.x.<br>\n",
              "We recommend you <a href=\"https://www.tensorflow.org/guide/migrate\" target=\"_blank\">upgrade</a> now \n",
              "or ensure your notebook will continue to use TensorFlow 1.x via the <code>%tensorflow_version 1.x</code> magic:\n",
              "<a href=\"https://colab.research.google.com/notebooks/tensorflow_version.ipynb\" target=\"_blank\">more info</a>.</p>\n"
            ],
            "text/plain": [
              "<IPython.core.display.HTML object>"
            ]
          },
          "metadata": {
            "tags": []
          }
        },
        {
          "output_type": "execute_result",
          "data": {
            "text/plain": [
              "'2.2.5'"
            ]
          },
          "metadata": {
            "tags": []
          },
          "execution_count": 1
        }
      ]
    },
    {
      "cell_type": "code",
      "metadata": {
        "id": "O1doJD1moswt",
        "colab_type": "code",
        "outputId": "42769d93-959b-4b8a-8cfe-ec8576e85120",
        "colab": {
          "base_uri": "https://localhost:8080/",
          "height": 122
        }
      },
      "source": [
        "from google.colab import drive\n",
        "drive.mount('/gdrive')\n"
      ],
      "execution_count": 2,
      "outputs": [
        {
          "output_type": "stream",
          "text": [
            "Go to this URL in a browser: https://accounts.google.com/o/oauth2/auth?client_id=947318989803-6bn6qk8qdgf4n4g3pfee6491hc0brc4i.apps.googleusercontent.com&redirect_uri=urn%3aietf%3awg%3aoauth%3a2.0%3aoob&response_type=code&scope=email%20https%3a%2f%2fwww.googleapis.com%2fauth%2fdocs.test%20https%3a%2f%2fwww.googleapis.com%2fauth%2fdrive%20https%3a%2f%2fwww.googleapis.com%2fauth%2fdrive.photos.readonly%20https%3a%2f%2fwww.googleapis.com%2fauth%2fpeopleapi.readonly\n",
            "\n",
            "Enter your authorization code:\n",
            "··········\n",
            "Mounted at /gdrive\n"
          ],
          "name": "stdout"
        }
      ]
    },
    {
      "cell_type": "code",
      "metadata": {
        "id": "fweZsNM2B8_D",
        "colab_type": "code",
        "outputId": "220c7ec6-468e-4175-d710-b5d763473997",
        "colab": {
          "base_uri": "https://localhost:8080/",
          "height": 119
        }
      },
      "source": [
        "\n",
        "%cd /gdrive\n",
        "%cd My\\ Drive\n",
        "%cd CSCE421YaleData \n",
        "!ls"
      ],
      "execution_count": 3,
      "outputs": [
        {
          "output_type": "stream",
          "text": [
            "/gdrive\n",
            "/gdrive/My Drive\n",
            "/gdrive/My Drive/CSCE421YaleData\n",
            "csce_421_final_subject_class_emotion.h5    emotions\t\t  subjects\n",
            "csce_421_final_subject_class.h5\t\t   glasses\n",
            "csce_421_final_subject_class_wo_imgAug.h5  Homework5_YaleDataset\n"
          ],
          "name": "stdout"
        }
      ]
    },
    {
      "cell_type": "code",
      "metadata": {
        "id": "Xlwp1KMq2YrM",
        "colab_type": "code",
        "colab": {}
      },
      "source": [
        "import os, shutil\n",
        "\n",
        "original_dataset_dir = '/gdrive/My Drive/CSCE421YaleData/Homework5_YaleDataset'\n",
        "base_dir = '/gdrive/My Drive/CSCE421YaleData/glass'\n",
        "\n"
      ],
      "execution_count": 0,
      "outputs": []
    },
    {
      "cell_type": "code",
      "metadata": {
        "id": "Z-o9md328gh1",
        "colab_type": "code",
        "colab": {}
      },
      "source": [
        "train_dir = os.path.join(base_dir,'train')\n",
        "validation_dir = os.path.join(base_dir,'validation')\n",
        "test_dir = os.path.join(base_dir,'test')\n",
        "\n",
        "\n"
      ],
      "execution_count": 0,
      "outputs": []
    },
    {
      "cell_type": "code",
      "metadata": {
        "id": "x3ynT1N1Un5j",
        "colab_type": "code",
        "outputId": "b4d62881-4def-4e27-ff7e-d44afb8231c8",
        "colab": {
          "base_uri": "https://localhost:8080/",
          "height": 561
        }
      },
      "source": [
        "from keras import layers\n",
        "from keras import models\n",
        "\n",
        "\"\"\"======Model======\"\"\"\n",
        "model = models.Sequential()\n",
        "model.add(layers.Conv2D(32, (3, 3), activation='relu', input_shape=(150, 150, 3)))\n",
        "model.add(layers.MaxPooling2D((2, 2)))\n",
        "model.add(layers.Conv2D(64, (3,3), activation = 'relu'))\n",
        "model.add(layers.MaxPooling2D((2, 2)))\n",
        "model.add(layers.Conv2D(128, (3,3), activation = 'relu'))\n",
        "model.add(layers.MaxPooling2D((2, 2)))\n",
        "model.add(layers.Conv2D(128, (3,3), activation = 'relu'))\n",
        "model.add(layers.MaxPooling2D((2, 2)))\n",
        "\n",
        "model.add(layers.Flatten())\n",
        "\n",
        "\"\"\"add dropout to fight overfitting\"\"\"\n",
        "model.add(layers.Dropout(0.5))\n",
        "\n",
        "model.add(layers.Dense(512, activation = 'relu'))\n",
        "model.add(layers.Dense(1, activation = 'sigmoid'))\n",
        "model.summary()\n",
        "from keras import optimizers\n",
        "model.compile(loss='binary_crossentropy', \n",
        "              optimizer = optimizers.RMSprop(lr=1e-4),\n",
        "              metrics = ['acc'])\n",
        "                        "
      ],
      "execution_count": 38,
      "outputs": [
        {
          "output_type": "stream",
          "text": [
            "Model: \"sequential_6\"\n",
            "_________________________________________________________________\n",
            "Layer (type)                 Output Shape              Param #   \n",
            "=================================================================\n",
            "conv2d_13 (Conv2D)           (None, 148, 148, 32)      896       \n",
            "_________________________________________________________________\n",
            "max_pooling2d_13 (MaxPooling (None, 74, 74, 32)        0         \n",
            "_________________________________________________________________\n",
            "conv2d_14 (Conv2D)           (None, 72, 72, 64)        18496     \n",
            "_________________________________________________________________\n",
            "max_pooling2d_14 (MaxPooling (None, 36, 36, 64)        0         \n",
            "_________________________________________________________________\n",
            "conv2d_15 (Conv2D)           (None, 34, 34, 128)       73856     \n",
            "_________________________________________________________________\n",
            "max_pooling2d_15 (MaxPooling (None, 17, 17, 128)       0         \n",
            "_________________________________________________________________\n",
            "conv2d_16 (Conv2D)           (None, 15, 15, 128)       147584    \n",
            "_________________________________________________________________\n",
            "max_pooling2d_16 (MaxPooling (None, 7, 7, 128)         0         \n",
            "_________________________________________________________________\n",
            "flatten_6 (Flatten)          (None, 6272)              0         \n",
            "_________________________________________________________________\n",
            "dropout_6 (Dropout)          (None, 6272)              0         \n",
            "_________________________________________________________________\n",
            "dense_11 (Dense)             (None, 512)               3211776   \n",
            "_________________________________________________________________\n",
            "dense_12 (Dense)             (None, 1)                 513       \n",
            "=================================================================\n",
            "Total params: 3,453,121\n",
            "Trainable params: 3,453,121\n",
            "Non-trainable params: 0\n",
            "_________________________________________________________________\n"
          ],
          "name": "stdout"
        }
      ]
    },
    {
      "cell_type": "code",
      "metadata": {
        "id": "9LF-qG8zloiv",
        "colab_type": "code",
        "outputId": "96f0147b-5a24-4978-8b4b-c8786c372aaf",
        "colab": {
          "base_uri": "https://localhost:8080/",
          "height": 85
        }
      },
      "source": [
        "from keras.preprocessing.image import ImageDataGenerator\n",
        "\n",
        "\n",
        "train_datagen = ImageDataGenerator(rescale=1./255)\n",
        "\n",
        "\"\"\"Model Two: add data augmentation to generate more samples\"\"\"\n",
        "\n",
        "# train_datagen = ImageDataGenerator(\n",
        "#     rescale=1./255,\n",
        "#     rotation_range=40, \n",
        "#     width_shift_range=0.2, \n",
        "#     height_shift_range=0.2, \n",
        "#     shear_range=0.2, \n",
        "#     zoom_range=0.2, \n",
        "#     horizontal_flip=True,)\n",
        "\n",
        "test_datagen = ImageDataGenerator(rescale=1./255)\n",
        "\n",
        "\"\"\"Model Two: change batch_size from 20 to 32\"\"\"\n",
        "train_generator = train_datagen.flow_from_directory(\n",
        "    train_dir, \n",
        "    target_size =(150,150), \n",
        "    batch_size=32, \n",
        "    class_mode='binary') \n",
        "\n",
        "\"\"\"Model Two: change batch_size from 20 to 32\"\"\"\n",
        "validation_generator = test_datagen.flow_from_directory(\n",
        "    validation_dir, \n",
        "    target_size=(150,150), \n",
        "    batch_size=32, \n",
        "    class_mode='binary')\n",
        "\n",
        "for data_batch, labels_batch in train_generator:\n",
        "  print('data batch shape:', data_batch.shape)\n",
        "  print('labels batch shape:', labels_batch.shape)\n",
        "  break"
      ],
      "execution_count": 39,
      "outputs": [
        {
          "output_type": "stream",
          "text": [
            "Found 14 images belonging to 2 classes.\n",
            "Found 8 images belonging to 2 classes.\n",
            "data batch shape: (14, 150, 150, 3)\n",
            "labels batch shape: (14,)\n"
          ],
          "name": "stdout"
        }
      ]
    },
    {
      "cell_type": "code",
      "metadata": {
        "id": "mChNvBx5UTWN",
        "colab_type": "code",
        "outputId": "3aa78a43-9e98-4baf-d4fa-8c7e55a9cfce",
        "colab": {
          "base_uri": "https://localhost:8080/",
          "height": 1000
        }
      },
      "source": [
        "\n",
        "history = model.fit_generator(\n",
        "    train_generator, \n",
        "    steps_per_epoch=100, \n",
        "    epochs=50, \n",
        "    validation_data=validation_generator, \n",
        "    validation_steps=50)\n",
        "\n",
        "model.save('csce_421_final_subject_class_glass.h5')\n",
        "\n",
        "\n",
        "\"\"\"\n",
        "model.load_weights('')\n",
        "\"\"\""
      ],
      "execution_count": 40,
      "outputs": [
        {
          "output_type": "stream",
          "text": [
            "Epoch 1/50\n",
            "100/100 [==============================] - 16s 156ms/step - loss: 0.4421 - acc: 0.8386 - val_loss: 1.1721 - val_acc: 0.3750\n",
            "Epoch 2/50\n",
            "100/100 [==============================] - 15s 149ms/step - loss: 0.0723 - acc: 0.9914 - val_loss: 2.1527 - val_acc: 0.3750\n",
            "Epoch 3/50\n",
            "100/100 [==============================] - 15s 149ms/step - loss: 0.0090 - acc: 0.9993 - val_loss: 3.2268 - val_acc: 0.5000\n",
            "Epoch 4/50\n",
            "100/100 [==============================] - 15s 149ms/step - loss: 0.0033 - acc: 0.9986 - val_loss: 3.3643 - val_acc: 0.5000\n",
            "Epoch 5/50\n",
            "100/100 [==============================] - 15s 149ms/step - loss: 0.0018 - acc: 0.9993 - val_loss: 3.7613 - val_acc: 0.5000\n",
            "Epoch 6/50\n",
            "100/100 [==============================] - 15s 149ms/step - loss: 5.1543e-05 - acc: 1.0000 - val_loss: 4.7349 - val_acc: 0.3750\n",
            "Epoch 7/50\n",
            "100/100 [==============================] - 15s 149ms/step - loss: 3.3346e-05 - acc: 1.0000 - val_loss: 6.0987 - val_acc: 0.5000\n",
            "Epoch 8/50\n",
            "100/100 [==============================] - 15s 149ms/step - loss: 0.0015 - acc: 0.9993 - val_loss: 5.3330 - val_acc: 0.5000\n",
            "Epoch 9/50\n",
            "100/100 [==============================] - 15s 149ms/step - loss: 1.8409e-05 - acc: 1.0000 - val_loss: 5.2453 - val_acc: 0.3750\n",
            "Epoch 10/50\n",
            "100/100 [==============================] - 15s 149ms/step - loss: 6.9664e-05 - acc: 1.0000 - val_loss: 5.4067 - val_acc: 0.5000\n",
            "Epoch 11/50\n",
            "100/100 [==============================] - 15s 149ms/step - loss: 3.9611e-06 - acc: 1.0000 - val_loss: 5.4851 - val_acc: 0.5000\n",
            "Epoch 12/50\n",
            "100/100 [==============================] - 15s 149ms/step - loss: 0.0022 - acc: 0.9993 - val_loss: 5.5674 - val_acc: 0.3750\n",
            "Epoch 13/50\n",
            "100/100 [==============================] - 15s 149ms/step - loss: 1.3365e-06 - acc: 1.0000 - val_loss: 5.7841 - val_acc: 0.5000\n",
            "Epoch 14/50\n",
            "100/100 [==============================] - 15s 149ms/step - loss: 3.2966e-07 - acc: 1.0000 - val_loss: 6.5859 - val_acc: 0.3750\n",
            "Epoch 15/50\n",
            "100/100 [==============================] - 15s 149ms/step - loss: 1.2500e-07 - acc: 1.0000 - val_loss: 5.7225 - val_acc: 0.5000\n",
            "Epoch 16/50\n",
            "100/100 [==============================] - 15s 149ms/step - loss: 5.8293e-07 - acc: 1.0000 - val_loss: 6.4050 - val_acc: 0.5000\n",
            "Epoch 17/50\n",
            "100/100 [==============================] - 15s 148ms/step - loss: 2.3937e-07 - acc: 1.0000 - val_loss: 6.2384 - val_acc: 0.5000\n",
            "Epoch 18/50\n",
            "100/100 [==============================] - 15s 149ms/step - loss: 7.8405e-07 - acc: 1.0000 - val_loss: 6.1317 - val_acc: 0.3750\n",
            "Epoch 19/50\n",
            "100/100 [==============================] - 15s 148ms/step - loss: 2.2517e-07 - acc: 1.0000 - val_loss: 6.1936 - val_acc: 0.3750\n",
            "Epoch 20/50\n",
            "100/100 [==============================] - 15s 149ms/step - loss: 1.1185e-07 - acc: 1.0000 - val_loss: 6.4182 - val_acc: 0.3750\n",
            "Epoch 21/50\n",
            "100/100 [==============================] - 15s 149ms/step - loss: 1.1234e-07 - acc: 1.0000 - val_loss: 6.0248 - val_acc: 0.5000\n",
            "Epoch 22/50\n",
            "100/100 [==============================] - 15s 150ms/step - loss: 1.0974e-07 - acc: 1.0000 - val_loss: 6.1339 - val_acc: 0.5000\n",
            "Epoch 23/50\n",
            "100/100 [==============================] - 15s 148ms/step - loss: 1.0969e-07 - acc: 1.0000 - val_loss: 6.2340 - val_acc: 0.5000\n",
            "Epoch 24/50\n",
            "100/100 [==============================] - 15s 149ms/step - loss: 1.1147e-07 - acc: 1.0000 - val_loss: 5.9364 - val_acc: 0.5000\n",
            "Epoch 25/50\n",
            "100/100 [==============================] - 15s 150ms/step - loss: 1.1095e-07 - acc: 1.0000 - val_loss: 6.1932 - val_acc: 0.5000\n",
            "Epoch 26/50\n",
            "100/100 [==============================] - 15s 149ms/step - loss: 1.0965e-07 - acc: 1.0000 - val_loss: 6.2345 - val_acc: 0.5000\n",
            "Epoch 27/50\n",
            "100/100 [==============================] - 15s 149ms/step - loss: 1.0998e-07 - acc: 1.0000 - val_loss: 6.1370 - val_acc: 0.5000\n",
            "Epoch 28/50\n",
            "100/100 [==============================] - 15s 150ms/step - loss: 1.1170e-07 - acc: 1.0000 - val_loss: 6.0623 - val_acc: 0.5000\n",
            "Epoch 29/50\n",
            "100/100 [==============================] - 15s 149ms/step - loss: 1.0960e-07 - acc: 1.0000 - val_loss: 6.0623 - val_acc: 0.5000\n",
            "Epoch 30/50\n",
            "100/100 [==============================] - 15s 149ms/step - loss: 1.1096e-07 - acc: 1.0000 - val_loss: 6.3034 - val_acc: 0.3750\n",
            "Epoch 31/50\n",
            "100/100 [==============================] - 15s 149ms/step - loss: 1.0960e-07 - acc: 1.0000 - val_loss: 6.3034 - val_acc: 0.3750\n",
            "Epoch 32/50\n",
            "100/100 [==============================] - 15s 149ms/step - loss: 1.0960e-07 - acc: 1.0000 - val_loss: 6.3034 - val_acc: 0.3750\n",
            "Epoch 33/50\n",
            "100/100 [==============================] - 15s 149ms/step - loss: 1.1108e-07 - acc: 1.0000 - val_loss: 6.7500 - val_acc: 0.3750\n",
            "Epoch 34/50\n",
            "100/100 [==============================] - 15s 149ms/step - loss: 1.1084e-07 - acc: 1.0000 - val_loss: 6.2549 - val_acc: 0.3750\n",
            "Epoch 35/50\n",
            "100/100 [==============================] - 15s 149ms/step - loss: 1.0960e-07 - acc: 1.0000 - val_loss: 6.2549 - val_acc: 0.3750\n",
            "Epoch 36/50\n",
            "100/100 [==============================] - 15s 150ms/step - loss: 1.1045e-07 - acc: 1.0000 - val_loss: 6.1749 - val_acc: 0.3750\n",
            "Epoch 37/50\n",
            "100/100 [==============================] - 15s 149ms/step - loss: 1.0965e-07 - acc: 1.0000 - val_loss: 6.2110 - val_acc: 0.3750\n",
            "Epoch 38/50\n",
            "100/100 [==============================] - 15s 148ms/step - loss: 1.0960e-07 - acc: 1.0000 - val_loss: 6.2110 - val_acc: 0.3750\n",
            "Epoch 39/50\n",
            "100/100 [==============================] - 15s 149ms/step - loss: 1.1024e-07 - acc: 1.0000 - val_loss: 6.0065 - val_acc: 0.5000\n",
            "Epoch 40/50\n",
            "100/100 [==============================] - 15s 149ms/step - loss: 1.0960e-07 - acc: 1.0000 - val_loss: 6.0065 - val_acc: 0.5000\n",
            "Epoch 41/50\n",
            "100/100 [==============================] - 15s 149ms/step - loss: 1.0982e-07 - acc: 1.0000 - val_loss: 6.2361 - val_acc: 0.3750\n",
            "Epoch 42/50\n",
            "100/100 [==============================] - 15s 149ms/step - loss: 1.0965e-07 - acc: 1.0000 - val_loss: 6.3062 - val_acc: 0.3750\n",
            "Epoch 43/50\n",
            "100/100 [==============================] - 15s 149ms/step - loss: 1.0960e-07 - acc: 1.0000 - val_loss: 6.3062 - val_acc: 0.3750\n",
            "Epoch 44/50\n",
            "100/100 [==============================] - 15s 149ms/step - loss: 1.0970e-07 - acc: 1.0000 - val_loss: 6.3168 - val_acc: 0.3750\n",
            "Epoch 45/50\n",
            "100/100 [==============================] - 15s 148ms/step - loss: 1.0960e-07 - acc: 1.0000 - val_loss: 6.3168 - val_acc: 0.3750\n",
            "Epoch 46/50\n",
            "100/100 [==============================] - 15s 149ms/step - loss: 1.1115e-07 - acc: 1.0000 - val_loss: 5.9285 - val_acc: 0.5000\n",
            "Epoch 47/50\n",
            "100/100 [==============================] - 15s 149ms/step - loss: 1.1410e-07 - acc: 1.0000 - val_loss: 6.7420 - val_acc: 0.3750\n",
            "Epoch 48/50\n",
            "100/100 [==============================] - 15s 149ms/step - loss: 1.0960e-07 - acc: 1.0000 - val_loss: 6.7420 - val_acc: 0.3750\n",
            "Epoch 49/50\n",
            "100/100 [==============================] - 15s 149ms/step - loss: 1.0968e-07 - acc: 1.0000 - val_loss: 6.6574 - val_acc: 0.3750\n",
            "Epoch 50/50\n",
            "100/100 [==============================] - 15s 149ms/step - loss: 1.0960e-07 - acc: 1.0000 - val_loss: 6.6574 - val_acc: 0.3750\n"
          ],
          "name": "stdout"
        },
        {
          "output_type": "execute_result",
          "data": {
            "text/plain": [
              "\"\\nmodel.load_weights('')\\n\""
            ]
          },
          "metadata": {
            "tags": []
          },
          "execution_count": 40
        }
      ]
    },
    {
      "cell_type": "code",
      "metadata": {
        "id": "dzrRJxGDHGGY",
        "colab_type": "code",
        "colab": {
          "base_uri": "https://localhost:8080/",
          "height": 68
        },
        "outputId": "d11626f3-6786-4d69-9d44-ba5914df9550"
      },
      "source": [
        "test_generator = test_datagen.flow_from_directory(\n",
        "    test_dir, \n",
        "    target_size=(150,150), \n",
        "    batch_size=32, \n",
        "    class_mode='binary')\n",
        "\n",
        "model.evaluate(test_generator)"
      ],
      "execution_count": 41,
      "outputs": [
        {
          "output_type": "stream",
          "text": [
            "Found 8 images belonging to 2 classes.\n",
            "\r1/1 [==============================] - 0s 23ms/step\n"
          ],
          "name": "stdout"
        },
        {
          "output_type": "execute_result",
          "data": {
            "text/plain": [
              "[4.016801834106445, 0.625]"
            ]
          },
          "metadata": {
            "tags": []
          },
          "execution_count": 41
        }
      ]
    }
  ]
}